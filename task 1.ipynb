{
 "cells": [
  {
   "cell_type": "markdown",
   "id": "ffc7c972",
   "metadata": {},
   "source": [
    "## TAsk1\n",
    "## SIRSS2272\n",
    "## Nishant Kumar"
   ]
  },
  {
   "cell_type": "markdown",
   "id": "945ad7b9",
   "metadata": {},
   "source": [
    "### 1.\n",
    "        5 5 5 5 5\n",
    "        5 5 5 5\n",
    "        5 5 5\n",
    "        5 5\n",
    "        5"
   ]
  },
  {
   "cell_type": "code",
   "execution_count": 1,
   "id": "bc01a99f",
   "metadata": {},
   "outputs": [
    {
     "name": "stdout",
     "output_type": "stream",
     "text": [
      "5 5 5 5 5 \n",
      "5 5 5 5 \n",
      "5 5 5 \n",
      "5 5 \n",
      "5 \n"
     ]
    }
   ],
   "source": [
    "for x in range(0,5):\n",
    "    for y in range((5-x)):\n",
    "        print(5,end=' ')\n",
    "    print()\n",
    "    "
   ]
  },
  {
   "cell_type": "markdown",
   "id": "1bd0b261",
   "metadata": {},
   "source": [
    "## 2.  \n",
    "        0 1 2 3 4 5\n",
    "        0 1 2 3 4\n",
    "        0 1 2 3\n",
    "        0 1 2\n",
    "        0 1"
   ]
  },
  {
   "cell_type": "code",
   "execution_count": 2,
   "id": "5194edd4",
   "metadata": {},
   "outputs": [
    {
     "name": "stdout",
     "output_type": "stream",
     "text": [
      "0 1 2 3 4 5 \n",
      "0 1 2 3 4 \n",
      "0 1 2 3 \n",
      "0 1 2 \n",
      "0 1 \n",
      "0 \n"
     ]
    }
   ],
   "source": [
    "for x in range(0,6):\n",
    "    for y in range((6-x)):\n",
    "        print(y,end=' ')\n",
    "    print()"
   ]
  },
  {
   "cell_type": "markdown",
   "id": "ef13b44a",
   "metadata": {},
   "source": [
    "### 3.\n",
    "        1\n",
    "        3 3\n",
    "        5 5 5\n",
    "        7 7 7 7\n",
    "        9 9 9 9 9"
   ]
  },
  {
   "cell_type": "code",
   "execution_count": 3,
   "id": "f4ddd3cb",
   "metadata": {},
   "outputs": [
    {
     "name": "stdout",
     "output_type": "stream",
     "text": [
      "1 \n",
      "3 3 \n",
      "5 5 5 \n",
      "7 7 7 7 \n",
      "9 9 9 9 9 \n"
     ]
    }
   ],
   "source": [
    "for i in range(1,6):\n",
    "    for j in range(1,i+1):\n",
    "        print((2*i-1),end=\" \")\n",
    "    print()"
   ]
  },
  {
   "cell_type": "markdown",
   "id": "b5c7475d",
   "metadata": {},
   "source": [
    "### 4.\n",
    "     1\n",
    "     2 1\n",
    "     3 2 1\n",
    "     4 3 2 1\n",
    "     5 4 3 2 1"
   ]
  },
  {
   "cell_type": "code",
   "execution_count": 4,
   "id": "21f799c1",
   "metadata": {},
   "outputs": [
    {
     "name": "stdout",
     "output_type": "stream",
     "text": [
      "1 \n",
      "2 1 \n",
      "3 2 1 \n",
      "4 3 2 1 \n",
      "5 4 3 2 1 \n"
     ]
    }
   ],
   "source": [
    "for i in range(0,5):\n",
    "    for j in range(i+1,0,-1):\n",
    "        print(j, end=\" \")\n",
    "    print()"
   ]
  },
  {
   "cell_type": "markdown",
   "id": "7aa7df95",
   "metadata": {},
   "source": [
    "### 5.\n",
    "     1\n",
    "     3 2\n",
    "     6 5 4\n",
    "    10 9 8 7\n"
   ]
  },
  {
   "cell_type": "code",
   "execution_count": 5,
   "id": "0994919e",
   "metadata": {},
   "outputs": [
    {
     "name": "stdout",
     "output_type": "stream",
     "text": [
      "1 \n",
      "3 2 \n",
      "6 5 4 \n",
      "10 9 8 7 \n"
     ]
    }
   ],
   "source": [
    "st = 1\n",
    "sp = 2\n",
    "cn = sp\n",
    "for i in range(2, 6):\n",
    "    for j in range(st, sp):\n",
    "        cn -= 1\n",
    "        print(cn, end=' ')\n",
    "    print('')\n",
    "    st = sp\n",
    "    sp += i\n",
    "    cn = sp"
   ]
  },
  {
   "cell_type": "markdown",
   "id": "9e5b6cbd",
   "metadata": {},
   "source": [
    "### 6\n",
    "      1\n",
    "      1 1\n",
    "      1 2 1\n",
    "      1 3 3 1\n",
    "      1 4 6 4 1\n",
    "      1 5 10 10 5 1\n",
    "      1 6 15 20 15 6 1"
   ]
  },
  {
   "cell_type": "code",
   "execution_count": 6,
   "id": "b17128c6",
   "metadata": {},
   "outputs": [
    {
     "name": "stdout",
     "output_type": "stream",
     "text": [
      " 1 \n",
      " 1  1 \n",
      " 1  2  1 \n",
      " 1  3  3  1 \n",
      " 1  4  6  4  1 \n",
      " 1  5  10  10  5  1 \n",
      " 1  6  15  20  15  6  1 \n"
     ]
    }
   ],
   "source": [
    "n=8\n",
    "for i in range(1,n):\n",
    "    C = 1\n",
    "    for j in range(1, i+1):\n",
    "        print('',C,'', end='')\n",
    "        C = C * (i - j) // j\n",
    "    print()"
   ]
  },
  {
   "cell_type": "markdown",
   "id": "d28bedd9",
   "metadata": {},
   "source": [
    "### 7\n",
    "    1 2 3 4 5\n",
    "    2 2 3 4 5\n",
    "    3 3 3 4 5\n",
    "    4 4 4 4 5\n",
    "    5 5 5 5 5"
   ]
  },
  {
   "cell_type": "code",
   "execution_count": 7,
   "id": "899c321a",
   "metadata": {},
   "outputs": [
    {
     "name": "stdout",
     "output_type": "stream",
     "text": [
      "1 2 3 4 5 \n",
      "2 2 3 4 5 \n",
      "3 3 3 4 5 \n",
      "4 4 4 4 5 \n",
      "5 5 5 5 5 \n"
     ]
    }
   ],
   "source": [
    "for i in range(1,6):\n",
    "    for j in range(1,6):\n",
    "        if j<=i:\n",
    "            print(i, end=\" \")\n",
    "        else:     \n",
    "            print(j, end=\" \")\n",
    "    print()\n",
    "        "
   ]
  },
  {
   "cell_type": "markdown",
   "id": "0340278c",
   "metadata": {},
   "source": [
    "### 8\n",
    "     1 \n",
    "     2 4 \n",
    "     3 6 9 \n",
    "     4 8 12 16 \n",
    "     5 10 15 20 25 \n",
    "     6 12 18 24 30 36 \n",
    "     7 14 21 28 35 42 49 \n",
    "     8 16 24 32 40 48 56 64 \n"
   ]
  },
  {
   "cell_type": "code",
   "execution_count": 8,
   "id": "4042857a",
   "metadata": {},
   "outputs": [
    {
     "name": "stdout",
     "output_type": "stream",
     "text": [
      "1 \n",
      "2 4 \n",
      "3 6 9 \n",
      "4 8 12 16 \n",
      "5 10 15 20 25 \n",
      "6 12 18 24 30 36 \n",
      "7 14 21 28 35 42 49 \n",
      "8 16 24 32 40 48 56 64 \n"
     ]
    }
   ],
   "source": [
    "for i in range(1,9):\n",
    "    for j in range(1,i+1):\n",
    "        print(i*j, end=\" \")\n",
    "    print()"
   ]
  },
  {
   "cell_type": "markdown",
   "id": "fc835953",
   "metadata": {},
   "source": [
    "### 9\n",
    "    * * * * * * \n",
    "     * * * * * \n",
    "      * * * * \n",
    "       * * * \n",
    "        * * \n",
    "         * "
   ]
  },
  {
   "cell_type": "code",
   "execution_count": 9,
   "id": "c5e1b6b4",
   "metadata": {},
   "outputs": [
    {
     "name": "stdout",
     "output_type": "stream",
     "text": [
      "* * * * * * \n",
      " * * * * * \n",
      "  * * * * \n",
      "   * * * \n",
      "    * * \n",
      "     * \n"
     ]
    }
   ],
   "source": [
    "for i in range(6,0,-1):\n",
    "    for k in range(1,7-i):\n",
    "        print('', end=' ')\n",
    "    for j in range(1,i+1):\n",
    "        print('*',end= ' ')\n",
    "    print()"
   ]
  },
  {
   "cell_type": "markdown",
   "id": "e9f57267",
   "metadata": {},
   "source": [
    "### 10\n",
    "          * \n",
    "         * * \n",
    "        * * * \n",
    "       * * * * \n",
    "      * * * * * \n",
    "     * * * * * * \n",
    "    * * * * * * *"
   ]
  },
  {
   "cell_type": "code",
   "execution_count": 10,
   "id": "6628034f",
   "metadata": {},
   "outputs": [
    {
     "name": "stdout",
     "output_type": "stream",
     "text": [
      "      * \n",
      "     * * \n",
      "    * * * \n",
      "   * * * * \n",
      "  * * * * * \n",
      " * * * * * * \n",
      "* * * * * * * \n"
     ]
    }
   ],
   "source": [
    "for i in range(1,8):\n",
    "    for k in range(1,8-i):\n",
    "        print('', end=' ')\n",
    "    for j in range(1,i+1):\n",
    "        print('*',end= ' ')\n",
    "    print()"
   ]
  },
  {
   "cell_type": "markdown",
   "id": "623c8458",
   "metadata": {},
   "source": [
    "### 11\n",
    "       * \n",
    "       * * \n",
    "       * * * \n",
    "       * * * * \n",
    "       * * * * * \n",
    "\n",
    "       * * * * * \n",
    "       * * * * \n",
    "       * * * \n",
    "       * * \n",
    "       * "
   ]
  },
  {
   "cell_type": "code",
   "execution_count": 11,
   "id": "1ce6ca90",
   "metadata": {},
   "outputs": [
    {
     "name": "stdout",
     "output_type": "stream",
     "text": [
      "* \n",
      "* * \n",
      "* * * \n",
      "* * * * \n",
      "* * * * * \n",
      "\n",
      "* * * * * \n",
      "* * * * \n",
      "* * * \n",
      "* * \n",
      "* \n"
     ]
    }
   ],
   "source": [
    "for i in range(1,6):\n",
    "    for j in range(1,i+1):\n",
    "        print('*',end= ' ')\n",
    "    print()\n",
    "print()\n",
    "\n",
    "for i in range(5,0,-1):\n",
    "    for j in range(1,i+1):\n",
    "        print('*', end= \" \")\n",
    "    print()"
   ]
  },
  {
   "cell_type": "markdown",
   "id": "063ee6fa",
   "metadata": {},
   "source": [
    "### 12\n",
    "    * \n",
    "    * * \n",
    "    * * * \n",
    "    * * * * \n",
    "    * * * * * \n",
    "    * * * * \n",
    "    * * * \n",
    "    * * \n",
    "    * "
   ]
  },
  {
   "cell_type": "code",
   "execution_count": 12,
   "id": "da751b50",
   "metadata": {},
   "outputs": [
    {
     "name": "stdout",
     "output_type": "stream",
     "text": [
      "* \n",
      "* * \n",
      "* * * \n",
      "* * * * \n",
      "* * * * * \n",
      "* * * * \n",
      "* * * \n",
      "* * \n",
      "* \n"
     ]
    }
   ],
   "source": [
    "for i in range(1,6):\n",
    "    for j in range(1,i+1):\n",
    "        print('*',end= ' ')\n",
    "    print()\n",
    "for i in range(4,0,-1):\n",
    "    for j in range(1,i+1):\n",
    "        print('*', end= \" \")\n",
    "    print()"
   ]
  },
  {
   "cell_type": "markdown",
   "id": "b8627e73",
   "metadata": {},
   "source": [
    "### 13\n",
    "            * \n",
    "          * * \n",
    "        * * * \n",
    "      * * * * \n",
    "    * * * * * \n",
    "      * * * * \n",
    "        * * * \n",
    "          * * \n",
    "            * "
   ]
  },
  {
   "cell_type": "code",
   "execution_count": 13,
   "id": "cc16b172",
   "metadata": {},
   "outputs": [
    {
     "name": "stdout",
     "output_type": "stream",
     "text": [
      "        * \n",
      "      * * \n",
      "    * * * \n",
      "  * * * * \n",
      "* * * * * \n",
      "  * * * * \n",
      "    * * * \n",
      "      * * \n",
      "        * \n"
     ]
    }
   ],
   "source": [
    "for i in range(1,6):\n",
    "    for k in range(1,6-i):\n",
    "        print(\" \", end=\" \")\n",
    "    for j in range(1,i+1):\n",
    "        print('*', end=\" \")\n",
    "    print()\n",
    "for i in range(4,0,-1):\n",
    "    for k in range(1,6-i):\n",
    "        print(\" \", end=\" \")\n",
    "    for j in range(1,i+1):\n",
    "        print('*',end=\" \")\n",
    "    print()"
   ]
  },
  {
   "cell_type": "markdown",
   "id": "38f84584",
   "metadata": {},
   "source": [
    "### 14\n",
    "     * * * * *\n",
    "      * * * *\n",
    "       * * *\n",
    "        * *\n",
    "         *\n",
    "         *\n",
    "        * *\n",
    "       * * *\n",
    "      * * * *\n",
    "     * * * * *"
   ]
  },
  {
   "cell_type": "code",
   "execution_count": 14,
   "id": "579e5b19",
   "metadata": {},
   "outputs": [
    {
     "name": "stdout",
     "output_type": "stream",
     "text": [
      "*********\n",
      " *******\n",
      "  *****\n",
      "   ***\n",
      "    *\n",
      "   ***\n",
      "  *****\n",
      " *******\n",
      "*********\n"
     ]
    }
   ],
   "source": [
    "row = 5\n",
    "# Upper-half\n",
    "for i in range(row, 0, -1):\n",
    "    for j in range(row-i):\n",
    "        print(\" \", end=\"\")\n",
    "    for j in range(1, 2*i):\n",
    "        print(\"*\", end=\"\")\n",
    "    print()\n",
    "\n",
    "# Lower-half\n",
    "for i in range(2, row+1):\n",
    "    for j in range(row-i):\n",
    "        print(\" \", end=\"\")\n",
    "    for j in range(1, 2*i):\n",
    "        print(\"*\", end=\"\")\n",
    "    print()"
   ]
  },
  {
   "cell_type": "markdown",
   "id": "6e461851",
   "metadata": {},
   "source": [
    "### 15\n",
    "      ****************\n",
    "      *******__*******\n",
    "      ******____******\n",
    "      *****______*****\n",
    "      ****________****\n",
    "      ***__________***\n",
    "      **____________**\n",
    "      *______________*"
   ]
  },
  {
   "cell_type": "code",
   "execution_count": 15,
   "id": "3b23d289",
   "metadata": {},
   "outputs": [
    {
     "name": "stdout",
     "output_type": "stream",
     "text": [
      "****************\n",
      "*******__*******\n",
      "******____******\n",
      "*****______*****\n",
      "****________****\n",
      "***__________***\n",
      "**____________**\n",
      "*______________*\n"
     ]
    }
   ],
   "source": [
    "n=8\n",
    "print(\"*\" * n*2)\n",
    "for i in range(0,n-1):\n",
    "    print(\"*\" * (n-1-i),end='')\n",
    "    print(\"__\" * (i+1),end='')\n",
    "    print(\"*\" * (n-1-i))"
   ]
  },
  {
   "cell_type": "code",
   "execution_count": null,
   "id": "97edc29f",
   "metadata": {},
   "outputs": [],
   "source": []
  }
 ],
 "metadata": {
  "kernelspec": {
   "display_name": "Python 3",
   "language": "python",
   "name": "python3"
  },
  "language_info": {
   "codemirror_mode": {
    "name": "ipython",
    "version": 3
   },
   "file_extension": ".py",
   "mimetype": "text/x-python",
   "name": "python",
   "nbconvert_exporter": "python",
   "pygments_lexer": "ipython3",
   "version": "3.8.8"
  }
 },
 "nbformat": 4,
 "nbformat_minor": 5
}
